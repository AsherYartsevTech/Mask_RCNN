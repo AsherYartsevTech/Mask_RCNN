version https://git-lfs.github.com/spec/v1
oid sha256:3b9b3943cd333fc297eb8ca91ae9d1ceba28490304936d1f10d741f452aa2e59
size 878138
